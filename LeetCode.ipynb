{
 "cells": [
  {
   "cell_type": "markdown",
   "id": "0feab621",
   "metadata": {},
   "source": [
    "# 1. Two Sum"
   ]
  },
  {
   "cell_type": "code",
   "execution_count": null,
   "id": "34e5f5cc",
   "metadata": {},
   "outputs": [],
   "source": [
    "class Solution:\n",
    "    def twoSum(self, nums: List[int], target: int) -> List[int]:\n",
    "        for i in range(len(nums)):\n",
    "            for j in range(1,len(nums)-i):\n",
    "                if target == nums[i] + nums[i+j]:\n",
    "                    return [i ,j+i]"
   ]
  },
  {
   "cell_type": "code",
   "execution_count": null,
   "id": "ea0f7e1a",
   "metadata": {},
   "outputs": [],
   "source": [
    "class Solution:\n",
    "    def twoSum(self, nums: List[int], target: int) -> List[int]:\n",
    "        prev_list = {}\n",
    "        for i, n in enumerate(nums):\n",
    "            diff = target - n\n",
    "            if diff in prev_list:\n",
    "                return [prev_list[diff],i]\n",
    "            prev_list[n] = i\n",
    "        return"
   ]
  },
  {
   "cell_type": "markdown",
   "id": "30c78051",
   "metadata": {},
   "source": [
    "# 242. Valid Anagram\n"
   ]
  },
  {
   "cell_type": "code",
   "execution_count": 13,
   "id": "1e832dba",
   "metadata": {},
   "outputs": [],
   "source": [
    "class Solution:\n",
    "    def isAnagram(self, s: str, t: str) -> bool:\n",
    "        \n",
    "        if len(s) != len(t):\n",
    "            return False\n",
    "        else:\n",
    "            s = list(s)\n",
    "            t = list(t)\n",
    "            for element in s:\n",
    "                if element in t:\n",
    "                    t.remove(element)\n",
    "                else:\n",
    "                    return False\n",
    "            return True"
   ]
  },
  {
   "cell_type": "code",
   "execution_count": null,
   "id": "59b6a3fd",
   "metadata": {},
   "outputs": [],
   "source": [
    "class Solution:\n",
    "    def isAnagram(self, s: str, t: str) -> bool:\n",
    "        \n",
    "        if len(s) != len(t):\n",
    "            return False\n",
    "\n",
    "        if sorted(s) ==sorted(t):\n",
    "            return True"
   ]
  }
 ],
 "metadata": {
  "kernelspec": {
   "display_name": "Python 3",
   "language": "python",
   "name": "python3"
  },
  "language_info": {
   "codemirror_mode": {
    "name": "ipython",
    "version": 3
   },
   "file_extension": ".py",
   "mimetype": "text/x-python",
   "name": "python",
   "nbconvert_exporter": "python",
   "pygments_lexer": "ipython3",
   "version": "3.8.8"
  }
 },
 "nbformat": 4,
 "nbformat_minor": 5
}
